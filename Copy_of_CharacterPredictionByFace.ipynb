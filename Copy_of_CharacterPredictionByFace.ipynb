{
  "metadata": {
    "kernelspec": {
      "language": "python",
      "display_name": "Python 3",
      "name": "python3"
    },
    "language_info": {
      "name": "python",
      "version": "3.10.13",
      "mimetype": "text/x-python",
      "codemirror_mode": {
        "name": "ipython",
        "version": 3
      },
      "pygments_lexer": "ipython3",
      "nbconvert_exporter": "python",
      "file_extension": ".py"
    },
    "kaggle": {
      "accelerator": "nvidiaTeslaT4",
      "dataSources": [
        {
          "sourceId": 3281523,
          "sourceType": "datasetVersion",
          "datasetId": 1987414
        }
      ],
      "dockerImageVersionId": 30747,
      "isInternetEnabled": true,
      "language": "python",
      "sourceType": "notebook",
      "isGpuEnabled": true
    },
    "colab": {
      "provenance": [],
      "include_colab_link": true
    }
  },
  "nbformat_minor": 0,
  "nbformat": 4,
  "cells": [
    {
      "cell_type": "markdown",
      "metadata": {
        "id": "view-in-github",
        "colab_type": "text"
      },
      "source": [
        "<a href=\"https://colab.research.google.com/github/DhruboDevPramanik/CharacterByFace/blob/main/Copy_of_CharacterPredictionByFace.ipynb\" target=\"_parent\"><img src=\"https://colab.research.google.com/assets/colab-badge.svg\" alt=\"Open In Colab\"/></a>"
      ]
    },
    {
      "source": [
        "# IMPORTANT: RUN THIS CELL IN ORDER TO IMPORT YOUR KAGGLE DATA SOURCES,\n",
        "# THEN FEEL FREE TO DELETE THIS CELL.\n",
        "# NOTE: THIS NOTEBOOK ENVIRONMENT DIFFERS FROM KAGGLE'S PYTHON\n",
        "# ENVIRONMENT SO THERE MAY BE MISSING LIBRARIES USED BY YOUR\n",
        "# NOTEBOOK.\n",
        "import kagglehub\n",
        "gpiosenka_good_guysbad_guys_image_data_set_path = kagglehub.dataset_download('gpiosenka/good-guysbad-guys-image-data-set')\n",
        "\n",
        "print('Data source import complete.')\n"
      ],
      "metadata": {
        "id": "2-2CQNsw0rVU"
      },
      "cell_type": "code",
      "outputs": [],
      "execution_count": null
    },
    {
      "cell_type": "code",
      "source": [
        "# This Python 3 environment comes with many helpful analytics libraries installed\n",
        "# It is defined by the kaggle/python Docker image: https://github.com/kaggle/docker-python\n",
        "# For example, here's several helpful packages to load\n",
        "\n",
        "import numpy as np # linear algebra\n",
        "import pandas as pd # data processing, CSV file I/O (e.g. pd.read_csv)\n",
        "\n",
        "# Input data files are available in the read-only \"../input/\" directory\n",
        "# For example, running this (by clicking run or pressing Shift+Enter) will list all files under the input directory\n",
        "\n",
        "import os\n",
        "for dirname, _, filenames in os.walk('/kaggle/input'):\n",
        "    for filename in filenames:\n",
        "        print(os.path.join(dirname, filename))\n",
        "\n",
        "# You can write up to 20GB to the current directory (/kaggle/working/) that gets preserved as output when you create a version using \"Save & Run All\"\n",
        "# You can also write temporary files to /kaggle/temp/, but they won't be saved outside of the current session"
      ],
      "metadata": {
        "_uuid": "8f2839f25d086af736a60e9eeb907d3b93b6e0e5",
        "_cell_guid": "b1076dfc-b9ad-4769-8c92-a6c4dae69d19",
        "execution": {
          "iopub.status.busy": "2025-09-25T19:58:57.671735Z",
          "iopub.execute_input": "2025-09-25T19:58:57.672065Z",
          "iopub.status.idle": "2025-09-25T19:59:13.331499Z",
          "shell.execute_reply.started": "2025-09-25T19:58:57.672035Z",
          "shell.execute_reply": "2025-09-25T19:59:13.330682Z"
        },
        "trusted": true,
        "collapsed": true,
        "jupyter": {
          "outputs_hidden": true
        },
        "id": "enWcbjg70rVV"
      },
      "outputs": [],
      "execution_count": null
    },
    {
      "cell_type": "code",
      "source": [
        "import tensorflow as tf\n",
        "from tensorflow import keras\n",
        "from keras import Sequential\n",
        "from keras.layers import Dense,Conv2D,MaxPooling2D,Flatten,BatchNormalization,Dropout\n"
      ],
      "metadata": {
        "execution": {
          "iopub.status.busy": "2025-09-25T19:59:35.120595Z",
          "iopub.execute_input": "2025-09-25T19:59:35.121332Z",
          "iopub.status.idle": "2025-09-25T19:59:52.540631Z",
          "shell.execute_reply.started": "2025-09-25T19:59:35.121304Z",
          "shell.execute_reply": "2025-09-25T19:59:52.539924Z"
        },
        "trusted": true,
        "id": "GVK3sKnc0rVV"
      },
      "outputs": [],
      "execution_count": null
    },
    {
      "cell_type": "code",
      "source": [
        "# generators, since we have a very large data set so we convert it into small batches(32)\n",
        "train_ds = keras.utils.image_dataset_from_directory(        # library we have to import\n",
        "    directory = '/kaggle/input/good-guysbad-guys-image-data-set/train',  # path of train data\n",
        "    labels='inferred',\n",
        "    label_mode = 'int',\n",
        "    batch_size=32,\n",
        "    image_size=(256,256)\n",
        ")\n",
        "\n",
        "validation_ds = keras.utils.image_dataset_from_directory(\n",
        "    directory = '/kaggle/input/good-guysbad-guys-image-data-set/valid',     # yha per test data ka path hai\n",
        "    labels='inferred',\n",
        "    label_mode = 'int',\n",
        "    batch_size=32,\n",
        "    image_size=(256,256)\n",
        ")\n",
        "\n",
        "test_ds = keras.utils.image_dataset_from_directory(\n",
        "    directory = '/kaggle/input/good-guysbad-guys-image-data-set/test',     # yha per test data ka path hai\n",
        "    labels='inferred',\n",
        "    label_mode = 'int',\n",
        "    batch_size=32,\n",
        "    image_size=(256,256)\n",
        ")"
      ],
      "metadata": {
        "execution": {
          "iopub.status.busy": "2025-09-25T20:01:01.510245Z",
          "iopub.execute_input": "2025-09-25T20:01:01.511148Z",
          "iopub.status.idle": "2025-09-25T20:01:11.699938Z",
          "shell.execute_reply.started": "2025-09-25T20:01:01.511117Z",
          "shell.execute_reply": "2025-09-25T20:01:11.699288Z"
        },
        "trusted": true,
        "id": "APvXUREp0rVV"
      },
      "outputs": [],
      "execution_count": null
    },
    {
      "cell_type": "code",
      "source": [
        "# Normalize  # we have to  make aur pixel in same range(0,1)\n",
        "def process(image,label):\n",
        "    image = tf.cast(image/255. ,tf.float32)\n",
        "    return image,label\n",
        "\n",
        "train_ds = train_ds.map(process)\n",
        "validation_ds = validation_ds.map(process)\n",
        "test_ds = test_ds.map(process)"
      ],
      "metadata": {
        "execution": {
          "iopub.status.busy": "2025-09-25T20:01:32.60763Z",
          "iopub.execute_input": "2025-09-25T20:01:32.607958Z",
          "iopub.status.idle": "2025-09-25T20:01:32.634892Z",
          "shell.execute_reply.started": "2025-09-25T20:01:32.607932Z",
          "shell.execute_reply": "2025-09-25T20:01:32.634047Z"
        },
        "trusted": true,
        "id": "hYI1JSHz0rVV"
      },
      "outputs": [],
      "execution_count": null
    },
    {
      "cell_type": "code",
      "source": [
        "model = Sequential()\n",
        "\n",
        "model.add(Conv2D(32,kernel_size=(3,3),padding='valid',activation='relu',input_shape=(256,256,3)))\n",
        "model.add(BatchNormalization())\n",
        "model.add(MaxPooling2D(pool_size=(2,2),strides=2,padding='valid'))\n",
        "\n",
        "model.add(Conv2D(64,kernel_size=(3,3),padding='valid',activation='relu'))\n",
        "model.add(BatchNormalization())\n",
        "model.add(MaxPooling2D(pool_size=(2,2),strides=2,padding='valid'))\n",
        "\n",
        "model.add(Conv2D(128,kernel_size=(3,3),padding='valid',activation='relu'))\n",
        "model.add(BatchNormalization())\n",
        "model.add(MaxPooling2D(pool_size=(2,2),strides=2,padding='valid'))\n",
        "\n",
        "model.add(Flatten())\n",
        "\n",
        "model.add(Dense(128,activation='relu'))\n",
        "model.add(Dropout(0.1))\n",
        "model.add(Dense(64,activation='relu'))\n",
        "model.add(Dropout(0.1))\n",
        "model.add(Dense(1,activation='sigmoid'))\n",
        "\n",
        "model.summary()"
      ],
      "metadata": {
        "execution": {
          "iopub.status.busy": "2025-09-25T20:01:36.83165Z",
          "iopub.execute_input": "2025-09-25T20:01:36.832629Z",
          "iopub.status.idle": "2025-09-25T20:01:37.074557Z",
          "shell.execute_reply.started": "2025-09-25T20:01:36.832591Z",
          "shell.execute_reply": "2025-09-25T20:01:37.073602Z"
        },
        "trusted": true,
        "id": "qcLU6BjH0rVV"
      },
      "outputs": [],
      "execution_count": null
    },
    {
      "cell_type": "code",
      "source": [
        "model.compile(\n",
        "    optimizer='adam',\n",
        "    loss='binary_crossentropy',  # Use this if labels are integers\n",
        "    metrics=['accuracy']\n",
        ")\n",
        "\n",
        "\n",
        "## call back\n",
        "from keras.callbacks import ModelCheckpoint , EarlyStopping\n",
        "\n",
        "# Callbacks\n",
        "mc = ModelCheckpoint(\n",
        "    monitor='val_accuracy',           # Metric to monitor\n",
        "    filepath='bestmodel.keras',       # Save best model to .keras format\n",
        "    verbose=1,                        # Verbosity mode\n",
        "    save_best_only=True,               # Save only the best model\n",
        "    mode='auto'                       # Mode for monitoring (auto, min, max)\n",
        ")\n",
        "es = EarlyStopping(\n",
        "    monitor='val_accuracy',           # Metric to monitor\n",
        "    min_delta=0.01,                   # Minimum change to qualify as an improvement\n",
        "    patience=3,                       # Number of epochs with no improvement after which training will be stopped\n",
        "    verbose=1,                        # Verbosity mode\n",
        "    mode='auto'                       # Mode for monitoring (auto, min, max)\n",
        ")\n",
        "\n",
        "\n",
        "cb = [mc , es]\n",
        "\n",
        "history = model.fit(train_ds,\n",
        "                              steps_per_epoch = 30 ,\n",
        "                              epochs = 30,\n",
        "                              validation_data = validation_ds,\n",
        "                              #validation_step = 16,\n",
        "                              callbacks = cb)\n"
      ],
      "metadata": {
        "execution": {
          "iopub.status.busy": "2025-09-25T20:04:17.73709Z",
          "iopub.execute_input": "2025-09-25T20:04:17.737667Z",
          "iopub.status.idle": "2025-09-25T20:04:51.389418Z",
          "shell.execute_reply.started": "2025-09-25T20:04:17.73764Z",
          "shell.execute_reply": "2025-09-25T20:04:51.388587Z"
        },
        "trusted": true,
        "id": "soizLgQ40rVV"
      },
      "outputs": [],
      "execution_count": null
    },
    {
      "cell_type": "code",
      "source": [
        "import matplotlib.pyplot as plt\n",
        "\n",
        "plt.plot(history.history['accuracy'],color='red',label='train')\n",
        "plt.plot(history.history['val_accuracy'],color='blue',label='validation')\n",
        "plt.legend()\n",
        "plt.show()\n",
        "\n",
        "\n",
        "\n",
        "plt.plot(history.history['loss'],color='red',label='train')\n",
        "plt.plot(history.history['val_loss'],color='blue',label='validation')\n",
        "plt.legend()\n",
        "plt.show()"
      ],
      "metadata": {
        "execution": {
          "iopub.status.busy": "2025-09-25T20:06:45.042517Z",
          "iopub.execute_input": "2025-09-25T20:06:45.042924Z",
          "iopub.status.idle": "2025-09-25T20:06:45.587084Z",
          "shell.execute_reply.started": "2025-09-25T20:06:45.042901Z",
          "shell.execute_reply": "2025-09-25T20:06:45.586177Z"
        },
        "trusted": true,
        "id": "BmsbKFmG0rVW"
      },
      "outputs": [],
      "execution_count": null
    },
    {
      "cell_type": "code",
      "source": [
        "# Evaluate the model\n",
        "test_loss, test_accuracy = model.evaluate(test_ds)\n",
        "print(f\"Test Loss: {test_loss}, Test Accuracy: {test_accuracy}\")"
      ],
      "metadata": {
        "execution": {
          "iopub.status.busy": "2025-09-25T20:06:55.406091Z",
          "iopub.execute_input": "2025-09-25T20:06:55.40708Z",
          "iopub.status.idle": "2025-09-25T20:06:56.540931Z",
          "shell.execute_reply.started": "2025-09-25T20:06:55.407042Z",
          "shell.execute_reply": "2025-09-25T20:06:56.540059Z"
        },
        "trusted": true,
        "id": "Cnx5TkNu0rVW"
      },
      "outputs": [],
      "execution_count": null
    },
    {
      "cell_type": "code",
      "source": [
        "import numpy as np\n",
        "import matplotlib.pyplot as plt\n",
        "from keras.preprocessing.image import img_to_array, load_img\n",
        "from keras.applications.mobilenet import preprocess_input\n",
        "\n",
        "# Define the image path\n",
        "path = \"/kaggle/input/good-guysbad-guys-image-data-set/train/unsavory/0016.jpg\"\n",
        "\n",
        "# Load and preprocess the image\n",
        "img = load_img(path, target_size=(256, 256))\n",
        "input_arr = img_to_array(img)\n",
        "input_arr = preprocess_input(input_arr)  # Use the preprocessing function for MobileNet\n",
        "\n",
        "# Visualize the image\n",
        "plt.imshow((input_arr + 1) / 2)  # Display the image with correct scaling; MobileNet preprocess_input can result in values in [-1, 1]\n",
        "plt.axis('off')  # Hide axis\n",
        "plt.show()\n",
        "\n",
        "# Check the shape of the array\n",
        "print(\"Shape of input array:\", input_arr.shape)\n",
        "\n",
        "# Add a batch dimension\n",
        "input_arr = np.expand_dims(input_arr, axis=0)\n",
        "\n",
        "# Make prediction\n",
        "predictions = model.predict(input_arr)\n",
        "\n",
        "# Get the predicted class\n",
        "predicted_class_index = np.argmax(predictions[0])  # Get the index of the highest probability\n",
        "predicted_class_probability = np.max(predictions[0])  # Get the probability of the predicted class\n",
        "\n",
        "print(\"Predicted class index:\", predicted_class_index)\n",
        "print(\"Predicted class probability:\", predicted_class_probability)\n",
        "\n",
        "# Map predicted class index to class name (assuming you have a list of class names)\n",
        "class_names = ['savory', 'unsaavory']  # Replace with your actual class names\n",
        "predicted_class_name = class_names[predicted_class_index]\n",
        "\n",
        "print(\"Predicted class name:\", predicted_class_name)"
      ],
      "metadata": {
        "execution": {
          "iopub.status.busy": "2025-09-25T20:07:07.677814Z",
          "iopub.execute_input": "2025-09-25T20:07:07.678147Z",
          "iopub.status.idle": "2025-09-25T20:07:09.092227Z",
          "shell.execute_reply.started": "2025-09-25T20:07:07.678124Z",
          "shell.execute_reply": "2025-09-25T20:07:09.091333Z"
        },
        "trusted": true,
        "id": "vBQRQ94o0rVW"
      },
      "outputs": [],
      "execution_count": null
    },
    {
      "cell_type": "code",
      "source": [],
      "metadata": {
        "id": "R8kYpg1y0rVW"
      },
      "outputs": [],
      "execution_count": null
    },
    {
      "cell_type": "code",
      "source": [],
      "metadata": {
        "id": "84KEWyDu0rVW"
      },
      "outputs": [],
      "execution_count": null
    },
    {
      "cell_type": "code",
      "source": [],
      "metadata": {
        "id": "WP5o1nXi0rVW"
      },
      "outputs": [],
      "execution_count": null
    },
    {
      "cell_type": "code",
      "source": [],
      "metadata": {
        "id": "nNiWxc_q0rVW"
      },
      "outputs": [],
      "execution_count": null
    }
  ]
}